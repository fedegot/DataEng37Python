{
 "cells": [
  {
   "cell_type": "markdown",
   "id": "7f5d12d2",
   "metadata": {},
   "source": [
    "### About Dataset\n",
    "Context:\n",
    "\n",
    "- The aviation accident database throughout the world, from 1908-2019.\n",
    "\n",
    "- All civil and commercial aviation accidents of scheduled and non-scheduled passenger airliners worldwide, which resulted in a fatality (including all  U.S. Part 121 and Part 135 fatal accidents)\n",
    "\n",
    "- All cargo, positioning, ferry and test flight fatal accidents.\n",
    "\n",
    "- All military transport accidents with 10 or more fatalities.\n",
    "\n",
    "- All commercial and military helicopter accidents with greater than 10 fatalities.\n",
    "\n",
    "- All civil and military airship accidents involving fatalities.\n",
    "\n",
    "- Aviation accidents involving the death of famous people.\n",
    "\n",
    "- Aviation accidents or incidents of noteworthy interest.\n",
    "\n",
    "Content\n",
    "Data is scraped from planecrashinfo.com. Below you can find the dataset column descriptions:\n",
    "\n",
    "\n",
    "CSV FILE: https://www.kaggle.com/datasets/cgurkan/airplane-crash-data-since-1908/download\n",
    "\n",
    "Website: http://www.planecrashinfo.com/database.htm"
   ]
  },
  {
   "cell_type": "code",
   "execution_count": 169,
   "id": "0eae0573",
   "metadata": {},
   "outputs": [],
   "source": [
    "import numpy as np\n",
    "import pandas as pd\n",
    "import seaborn as sns\n",
    "import matplotlib.pyplot as plt\n",
    "from collections import Counter\n"
   ]
  },
  {
   "cell_type": "code",
   "execution_count": 170,
   "id": "525b9093",
   "metadata": {},
   "outputs": [],
   "source": [
    "ar = pd.read_csv(\"Airplane_Crashes_and_Fatalities_Since_1908_20190820105639.csv\")"
   ]
  },
  {
   "cell_type": "code",
   "execution_count": 171,
   "id": "51354bfa",
   "metadata": {
    "scrolled": true
   },
   "outputs": [],
   "source": [
    "#ar.head(5)"
   ]
  },
  {
   "cell_type": "markdown",
   "id": "62adc5b7",
   "metadata": {},
   "source": [
    "# 1 - Check what kind of data it goes through."
   ]
  },
  {
   "cell_type": "code",
   "execution_count": 172,
   "id": "2301f525",
   "metadata": {},
   "outputs": [],
   "source": [
    "ar['Date'] = pd.to_datetime(ar['Date']) # CHANGE DATA TYPE"
   ]
  },
  {
   "cell_type": "code",
   "execution_count": 173,
   "id": "d9f86db9",
   "metadata": {},
   "outputs": [
    {
     "data": {
      "text/html": [
       "<div>\n",
       "<style scoped>\n",
       "    .dataframe tbody tr th:only-of-type {\n",
       "        vertical-align: middle;\n",
       "    }\n",
       "\n",
       "    .dataframe tbody tr th {\n",
       "        vertical-align: top;\n",
       "    }\n",
       "\n",
       "    .dataframe thead th {\n",
       "        text-align: right;\n",
       "    }\n",
       "</style>\n",
       "<table border=\"1\" class=\"dataframe\">\n",
       "  <thead>\n",
       "    <tr style=\"text-align: right;\">\n",
       "      <th></th>\n",
       "      <th>Aboard</th>\n",
       "      <th>Aboard Passangers</th>\n",
       "      <th>Aboard Crew</th>\n",
       "      <th>Fatalities</th>\n",
       "      <th>Fatalities Passangers</th>\n",
       "      <th>Fatalities Crew</th>\n",
       "      <th>Ground</th>\n",
       "    </tr>\n",
       "  </thead>\n",
       "  <tbody>\n",
       "    <tr>\n",
       "      <th>count</th>\n",
       "      <td>4949.000000</td>\n",
       "      <td>4738.000000</td>\n",
       "      <td>4741.000000</td>\n",
       "      <td>4959.000000</td>\n",
       "      <td>4725.000000</td>\n",
       "      <td>4726.000000</td>\n",
       "      <td>4926.000000</td>\n",
       "    </tr>\n",
       "    <tr>\n",
       "      <th>mean</th>\n",
       "      <td>31.088301</td>\n",
       "      <td>26.898691</td>\n",
       "      <td>4.479646</td>\n",
       "      <td>22.338173</td>\n",
       "      <td>19.017566</td>\n",
       "      <td>3.579348</td>\n",
       "      <td>1.728177</td>\n",
       "    </tr>\n",
       "    <tr>\n",
       "      <th>std</th>\n",
       "      <td>45.438282</td>\n",
       "      <td>44.010591</td>\n",
       "      <td>3.489021</td>\n",
       "      <td>35.026176</td>\n",
       "      <td>34.114849</td>\n",
       "      <td>3.170223</td>\n",
       "      <td>55.708966</td>\n",
       "    </tr>\n",
       "    <tr>\n",
       "      <th>min</th>\n",
       "      <td>0.000000</td>\n",
       "      <td>0.000000</td>\n",
       "      <td>0.000000</td>\n",
       "      <td>0.000000</td>\n",
       "      <td>0.000000</td>\n",
       "      <td>0.000000</td>\n",
       "      <td>0.000000</td>\n",
       "    </tr>\n",
       "    <tr>\n",
       "      <th>25%</th>\n",
       "      <td>7.000000</td>\n",
       "      <td>3.000000</td>\n",
       "      <td>2.000000</td>\n",
       "      <td>4.000000</td>\n",
       "      <td>1.000000</td>\n",
       "      <td>2.000000</td>\n",
       "      <td>0.000000</td>\n",
       "    </tr>\n",
       "    <tr>\n",
       "      <th>50%</th>\n",
       "      <td>16.000000</td>\n",
       "      <td>12.000000</td>\n",
       "      <td>4.000000</td>\n",
       "      <td>11.000000</td>\n",
       "      <td>8.000000</td>\n",
       "      <td>3.000000</td>\n",
       "      <td>0.000000</td>\n",
       "    </tr>\n",
       "    <tr>\n",
       "      <th>75%</th>\n",
       "      <td>35.000000</td>\n",
       "      <td>30.000000</td>\n",
       "      <td>6.000000</td>\n",
       "      <td>25.000000</td>\n",
       "      <td>21.000000</td>\n",
       "      <td>5.000000</td>\n",
       "      <td>0.000000</td>\n",
       "    </tr>\n",
       "    <tr>\n",
       "      <th>max</th>\n",
       "      <td>644.000000</td>\n",
       "      <td>614.000000</td>\n",
       "      <td>61.000000</td>\n",
       "      <td>583.000000</td>\n",
       "      <td>560.000000</td>\n",
       "      <td>46.000000</td>\n",
       "      <td>2750.000000</td>\n",
       "    </tr>\n",
       "  </tbody>\n",
       "</table>\n",
       "</div>"
      ],
      "text/plain": [
       "            Aboard  Aboard Passangers  Aboard Crew   Fatalities  \\\n",
       "count  4949.000000        4738.000000  4741.000000  4959.000000   \n",
       "mean     31.088301          26.898691     4.479646    22.338173   \n",
       "std      45.438282          44.010591     3.489021    35.026176   \n",
       "min       0.000000           0.000000     0.000000     0.000000   \n",
       "25%       7.000000           3.000000     2.000000     4.000000   \n",
       "50%      16.000000          12.000000     4.000000    11.000000   \n",
       "75%      35.000000          30.000000     6.000000    25.000000   \n",
       "max     644.000000         614.000000    61.000000   583.000000   \n",
       "\n",
       "       Fatalities Passangers  Fatalities Crew       Ground  \n",
       "count            4725.000000      4726.000000  4926.000000  \n",
       "mean               19.017566         3.579348     1.728177  \n",
       "std                34.114849         3.170223    55.708966  \n",
       "min                 0.000000         0.000000     0.000000  \n",
       "25%                 1.000000         2.000000     0.000000  \n",
       "50%                 8.000000         3.000000     0.000000  \n",
       "75%                21.000000         5.000000     0.000000  \n",
       "max               560.000000        46.000000  2750.000000  "
      ]
     },
     "execution_count": 173,
     "metadata": {},
     "output_type": "execute_result"
    }
   ],
   "source": [
    "ar.describe()"
   ]
  },
  {
   "cell_type": "markdown",
   "id": "55adb872",
   "metadata": {},
   "source": [
    "# 2 - Remove NaN from the Operators"
   ]
  },
  {
   "cell_type": "code",
   "execution_count": 174,
   "id": "6dff61c9",
   "metadata": {
    "scrolled": true
   },
   "outputs": [],
   "source": [
    "remNOp = ar[ar['Operator'].notna()] \n",
    "#remNOp.head(5)"
   ]
  },
  {
   "cell_type": "markdown",
   "id": "eca64123",
   "metadata": {},
   "source": [
    "# 3 - Most crashed operators sorted by operator 1908= > 2019."
   ]
  },
  {
   "cell_type": "code",
   "execution_count": 175,
   "id": "4b736594",
   "metadata": {},
   "outputs": [
    {
     "data": {
      "text/plain": [
       "Operator\n",
       "Aeroflot                     255\n",
       "Military - U.S. Air Force    140\n",
       "Air France                    72\n",
       "Deutsche Lufthansa            63\n",
       "United Air Lines              44\n",
       "                            ... \n",
       "Flyve Tjenesten                1\n",
       "Flying W Airways               1\n",
       "Flydubai                       1\n",
       "Fly Montserrat                 1\n",
       "èkoda (India) Ltd              1\n",
       "Length: 2242, dtype: int64"
      ]
     },
     "execution_count": 175,
     "metadata": {},
     "output_type": "execute_result"
    }
   ],
   "source": [
    "crashes = remNOp.groupby('Operator', as_index=True).size().sort_values(ascending=False)\n",
    "crashes"
   ]
  },
  {
   "cell_type": "code",
   "execution_count": 176,
   "id": "89da07db",
   "metadata": {},
   "outputs": [
    {
     "data": {
      "text/plain": [
       "Text(0.5, 0, 'Operator')"
      ]
     },
     "execution_count": 176,
     "metadata": {},
     "output_type": "execute_result"
    },
    {
     "data": {
      "image/png": "[encoded data removed]",
      "text/plain": [
       "<Figure size 1728x504 with 1 Axes>"
      ]
     },
     "metadata": {
      "needs_background": "light"
     },
     "output_type": "display_data"
    }
   ],
   "source": [
    "plt.figure(figsize=(24, 7))\n",
    "sns.barplot(x=crashes.head(7).index, y=crashes.head(7))\n",
    "plt.title('Most crashes per airline')\n",
    "plt.ylabel('Nr of Crashes')\n",
    "plt.xlabel('Operator')"
   ]
  },
  {
   "cell_type": "markdown",
   "id": "1536a600",
   "metadata": {},
   "source": [
    "# 4 - Most crashed aircraft types in 1908= > 2019."
   ]
  },
  {
   "cell_type": "code",
   "execution_count": 177,
   "id": "1780632e",
   "metadata": {},
   "outputs": [
    {
     "data": {
      "text/plain": [
       "AC Type\n",
       "Douglas DC-3                                333\n",
       "de Havilland Canada DHC-6 Twin Otter 300     81\n",
       "Douglas C-47A                                70\n",
       "Douglas C-47                                 64\n",
       "Douglas DC-4                                 38\n",
       "                                           ... \n",
       "Convair CV-340-62                             1\n",
       "Convair CV-340-59                             1\n",
       "Convair CV-340-32                             1\n",
       "Convair CV-300                                1\n",
       "deHavilland DH-86                             1\n",
       "Length: 2447, dtype: int64"
      ]
     },
     "execution_count": 177,
     "metadata": {},
     "output_type": "execute_result"
    }
   ],
   "source": [
    "remNOp2 = ar[ar['AC Type'].notna()] # Remove NaN from the AC Type\n",
    "aircraft = remNOp2.groupby('AC Type', as_index=True).size().sort_values(ascending=False)\n",
    "aircraft"
   ]
  },
  {
   "cell_type": "markdown",
   "id": "9333e911",
   "metadata": {},
   "source": [
    "http://www.dc3history.org/russianli2.html"
   ]
  },
  {
   "cell_type": "code",
   "execution_count": 178,
   "id": "4ce54ce2",
   "metadata": {},
   "outputs": [
    {
     "data": {
      "text/plain": [
       "Text(0.5, 0, 'Aircraft')"
      ]
     },
     "execution_count": 178,
     "metadata": {},
     "output_type": "execute_result"
    },
    {
     "data": {
      "image/png": "[encoded data removed]",
      "text/plain": [
       "<Figure size 1728x504 with 1 Axes>"
      ]
     },
     "metadata": {
      "needs_background": "light"
     },
     "output_type": "display_data"
    }
   ],
   "source": [
    "plt.figure(figsize=(24, 7))\n",
    "sns.barplot(x=aircraft.head(7).index, y=aircraft.head(7))\n",
    "plt.title('Most crashes Aircraft')\n",
    "plt.ylabel('Nr of Crashes')\n",
    "plt.xlabel('Aircraft')"
   ]
  },
  {
   "cell_type": "markdown",
   "id": "4e83db3c",
   "metadata": {},
   "source": [
    "# 5 - Most crashed operators sorted by operator between 2000 and 2019."
   ]
  },
  {
   "cell_type": "code",
   "execution_count": 179,
   "id": "4c2bfb4e",
   "metadata": {},
   "outputs": [
    {
     "data": {
      "text/plain": [
       "Operator\n",
       "Military - U.S. Army               6\n",
       "Military - Indonesian Air Force    5\n",
       "American Airlines                  4\n",
       "Trigana Air Service                4\n",
       "Military - Russian Air Force       4\n",
       "                                  ..\n",
       "Heliwork WA Pty Ltd. - Air Taxi    1\n",
       "Henan Airlines                     1\n",
       "Heringer Air Taxi                  1\n",
       "Heringer Taxi Aero                 1\n",
       "\\tAmazonavesAir Taxi               1\n",
       "Length: 647, dtype: int64"
      ]
     },
     "execution_count": 179,
     "metadata": {},
     "output_type": "execute_result"
    }
   ],
   "source": [
    "crash_2000 =  remNOp[pd.DatetimeIndex(remNOp['Date']).year >= 2000]\n",
    "opByCrash = crash_2000.groupby('Operator').size().sort_values(ascending=False)\n",
    "opByCrash"
   ]
  },
  {
   "cell_type": "code",
   "execution_count": 180,
   "id": "66d7cb06",
   "metadata": {},
   "outputs": [
    {
     "data": {
      "text/plain": [
       "Text(0.5, 0, 'Operator')"
      ]
     },
     "execution_count": 180,
     "metadata": {},
     "output_type": "execute_result"
    },
    {
     "data": {
      "image/png": "[encoded data removed]",
      "text/plain": [
       "<Figure size 1728x504 with 1 Axes>"
      ]
     },
     "metadata": {
      "needs_background": "light"
     },
     "output_type": "display_data"
    }
   ],
   "source": [
    "plt.figure(figsize=(24, 7))\n",
    "sns.barplot(x=opByCrash.head(10).index, y=opByCrash.head(10))\n",
    "plt.title('Most crashes per airline from year 2000')\n",
    "plt.ylabel('Nr of Crashes')\n",
    "plt.xlabel('Operator')"
   ]
  },
  {
   "cell_type": "markdown",
   "id": "06fa951d",
   "metadata": {},
   "source": [
    "# 6 - Area crashed aircraft 1908= > 2019."
   ]
  },
  {
   "cell_type": "code",
   "execution_count": 181,
   "id": "918baeb8",
   "metadata": {},
   "outputs": [
    {
     "data": {
      "text/plain": [
       "Moscow, Russia         17\n",
       "Manila, Philippines    14\n",
       "New York, New York     14\n",
       "Cairo, Egypt           13\n",
       "Sao Paulo, Brazil      13\n",
       "                       ..\n",
       "Mount Oyama, Japan      1\n",
       "Triel, France           1\n",
       "Near Lazo, Russia       1\n",
       "Payette, Idaho          1\n",
       "Rawalpindi, India       1\n",
       "Name: Location, Length: 4101, dtype: int64"
      ]
     },
     "execution_count": 181,
     "metadata": {},
     "output_type": "execute_result"
    }
   ],
   "source": [
    "locations = ar['Location'].value_counts() \n",
    "locations"
   ]
  },
  {
   "cell_type": "code",
   "execution_count": 182,
   "id": "2f258e72",
   "metadata": {
    "scrolled": true
   },
   "outputs": [
    {
     "data": {
      "text/plain": [
       "Text(0.5, 0, 'Aircraft')"
      ]
     },
     "execution_count": 182,
     "metadata": {},
     "output_type": "execute_result"
    },
    {
     "data": {
      "image/png": "[encoded data removed]",
      "text/plain": [
       "<Figure size 1728x504 with 1 Axes>"
      ]
     },
     "metadata": {
      "needs_background": "light"
     },
     "output_type": "display_data"
    }
   ],
   "source": [
    "plt.figure(figsize=(24, 7))\n",
    "sns.barplot(x=locations.head(7).index, y=locations.head(7))\n",
    "plt.title('Area of Crashed')\n",
    "plt.ylabel('Nr of Crashes')\n",
    "plt.xlabel('Aircraft')"
   ]
  },
  {
   "cell_type": "markdown",
   "id": "314c7114",
   "metadata": {},
   "source": [
    "# 7 - Crash location by place after 2000."
   ]
  },
  {
   "cell_type": "code",
   "execution_count": 183,
   "id": "662f7480",
   "metadata": {},
   "outputs": [
    {
     "data": {
      "text/plain": [
       "Location\n",
       "Moscow, Russia                 6\n",
       "Tehran, Iran                   5\n",
       "New York, New York             3\n",
       "Bishkek, Kyrgyzstan            2\n",
       "Near Baghdad, Iraq             2\n",
       "                              ..\n",
       "Mahad, Iran                    1\n",
       "Malatya, Turkey                1\n",
       "Malemba Nkulu, DR Congo        1\n",
       "Malta International Airport    1\n",
       "Zheng Zou AB, China            1\n",
       "Length: 694, dtype: int64"
      ]
     },
     "execution_count": 183,
     "metadata": {},
     "output_type": "execute_result"
    }
   ],
   "source": [
    "crash_2000 = remNOp[pd.DatetimeIndex(remNOp['Date']).year >= 2000]\n",
    "opByCrash = crash_2000.groupby('Location').size().sort_values(ascending=False)\n",
    "opByCrash"
   ]
  },
  {
   "cell_type": "code",
   "execution_count": 184,
   "id": "9ba8d004",
   "metadata": {
    "scrolled": true
   },
   "outputs": [],
   "source": [
    "# plt.figure(figsize=(24, 7))\n",
    "# sns.barplot(x=opByCrash.head(7).index, y=opByCrash.head(7))\n",
    "# plt.title('Most crashes Aircraft after 2000')\n",
    "# plt.ylabel('Nr of Crashes')\n",
    "# plt.xlabel('Places where are Crashed')"
   ]
  },
  {
   "cell_type": "markdown",
   "id": "ce51124d",
   "metadata": {},
   "source": [
    "# 8 - Crashes by year."
   ]
  },
  {
   "cell_type": "code",
   "execution_count": 185,
   "id": "854ae6e2",
   "metadata": {},
   "outputs": [
    {
     "data": {
      "text/html": [
       "<div>\n",
       "<style scoped>\n",
       "    .dataframe tbody tr th:only-of-type {\n",
       "        vertical-align: middle;\n",
       "    }\n",
       "\n",
       "    .dataframe tbody tr th {\n",
       "        vertical-align: top;\n",
       "    }\n",
       "\n",
       "    .dataframe thead th {\n",
       "        text-align: right;\n",
       "    }\n",
       "</style>\n",
       "<table border=\"1\" class=\"dataframe\">\n",
       "  <thead>\n",
       "    <tr style=\"text-align: right;\">\n",
       "      <th></th>\n",
       "      <th>Operator</th>\n",
       "    </tr>\n",
       "    <tr>\n",
       "      <th>year</th>\n",
       "      <th></th>\n",
       "    </tr>\n",
       "  </thead>\n",
       "  <tbody>\n",
       "    <tr>\n",
       "      <th>1946</th>\n",
       "      <td>88</td>\n",
       "    </tr>\n",
       "    <tr>\n",
       "      <th>1989</th>\n",
       "      <td>83</td>\n",
       "    </tr>\n",
       "    <tr>\n",
       "      <th>1947</th>\n",
       "      <td>82</td>\n",
       "    </tr>\n",
       "    <tr>\n",
       "      <th>1948</th>\n",
       "      <td>77</td>\n",
       "    </tr>\n",
       "    <tr>\n",
       "      <th>1962</th>\n",
       "      <td>77</td>\n",
       "    </tr>\n",
       "    <tr>\n",
       "      <th>1972</th>\n",
       "      <td>77</td>\n",
       "    </tr>\n",
       "    <tr>\n",
       "      <th>1951</th>\n",
       "      <td>75</td>\n",
       "    </tr>\n",
       "    <tr>\n",
       "      <th>1994</th>\n",
       "      <td>74</td>\n",
       "    </tr>\n",
       "    <tr>\n",
       "      <th>1945</th>\n",
       "      <td>74</td>\n",
       "    </tr>\n",
       "    <tr>\n",
       "      <th>1970</th>\n",
       "      <td>73</td>\n",
       "    </tr>\n",
       "    <tr>\n",
       "      <th>1960</th>\n",
       "      <td>70</td>\n",
       "    </tr>\n",
       "    <tr>\n",
       "      <th>1950</th>\n",
       "      <td>69</td>\n",
       "    </tr>\n",
       "    <tr>\n",
       "      <th>1991</th>\n",
       "      <td>69</td>\n",
       "    </tr>\n",
       "    <tr>\n",
       "      <th>1953</th>\n",
       "      <td>69</td>\n",
       "    </tr>\n",
       "    <tr>\n",
       "      <th>1969</th>\n",
       "      <td>69</td>\n",
       "    </tr>\n",
       "  </tbody>\n",
       "</table>\n",
       "</div>"
      ],
      "text/plain": [
       "      Operator\n",
       "year          \n",
       "1946        88\n",
       "1989        83\n",
       "1947        82\n",
       "1948        77\n",
       "1962        77\n",
       "1972        77\n",
       "1951        75\n",
       "1994        74\n",
       "1945        74\n",
       "1970        73\n",
       "1960        70\n",
       "1950        69\n",
       "1991        69\n",
       "1953        69\n",
       "1969        69"
      ]
     },
     "execution_count": 185,
     "metadata": {},
     "output_type": "execute_result"
    }
   ],
   "source": [
    "ar[\"year\"] = ar[\"Date\"].dt.year\n",
    "famel = ar.groupby(\"year\", as_index=True)[\"Operator\"].size().sort_values(ascending=False)\n",
    "famel = pd.DataFrame(famel)\n",
    "famel.head(15)"
   ]
  },
  {
   "cell_type": "code",
   "execution_count": 186,
   "id": "7f48d756",
   "metadata": {
    "scrolled": true
   },
   "outputs": [
    {
     "data": {
      "text/plain": [
       "<AxesSubplot:xlabel='year', ylabel='Operator'>"
      ]
     },
     "execution_count": 186,
     "metadata": {},
     "output_type": "execute_result"
    },
    {
     "data": {
      "image/png": "[encoded data removed]",
      "text/plain": [
       "<Figure size 432x288 with 1 Axes>"
      ]
     },
     "metadata": {
      "needs_background": "light"
     },
     "output_type": "display_data"
    }
   ],
   "source": [
    "sns.lineplot(data=famel, x=\"year\", y=\"Operator\")"
   ]
  },
  {
   "cell_type": "markdown",
   "id": "afaef805",
   "metadata": {},
   "source": [
    "The drop from 2000 to now is probably couse to the new flights practices and aircraft technologies"
   ]
  },
  {
   "cell_type": "markdown",
   "id": "cdded83e",
   "metadata": {},
   "source": [
    "# 9 - Find the most common couses plane crashes by finding the most common words.\n"
   ]
  },
  {
   "cell_type": "code",
   "execution_count": 187,
   "id": "4024c9c2",
   "metadata": {},
   "outputs": [
    {
     "data": {
      "text/plain": [
       "0       During a demonstration flight, a U.S. Army fly...\n",
       "1       Eugene Lefebvre was the first pilot to ever be...\n",
       "2       First U.S. dirigible Akron exploded just offsh...\n",
       "3       The first fatal airplane accident in Canada oc...\n",
       "4       The airship flew into a thunderstorm and encou...\n",
       "                              ...                        \n",
       "4962    While the aircraft was in the initial climb, p...\n",
       "4963    The aircraft crashed while en route on a retur...\n",
       "4964    Forty-five minutes after taking off from Mosco...\n",
       "4965                   Crashed about 34km WNW of Mechuka.\n",
       "4966    The Pakistani military plane, on a training fl...\n",
       "Name: Summary, Length: 4903, dtype: string"
      ]
     },
     "execution_count": 187,
     "metadata": {},
     "output_type": "execute_result"
    }
   ],
   "source": [
    "summ = ar[ar['Summary'].notna()] \n",
    "summ['Summary'].astype('string') #Convert \"summary\" obj in string"
   ]
  },
  {
   "cell_type": "code",
   "execution_count": 188,
   "id": "0b6b7aad",
   "metadata": {},
   "outputs": [
    {
     "data": {
      "text/html": [
       "<div>\n",
       "<style scoped>\n",
       "    .dataframe tbody tr th:only-of-type {\n",
       "        vertical-align: middle;\n",
       "    }\n",
       "\n",
       "    .dataframe tbody tr th {\n",
       "        vertical-align: top;\n",
       "    }\n",
       "\n",
       "    .dataframe thead th {\n",
       "        text-align: right;\n",
       "    }\n",
       "</style>\n",
       "<table border=\"1\" class=\"dataframe\">\n",
       "  <thead>\n",
       "    <tr style=\"text-align: right;\">\n",
       "      <th></th>\n",
       "      <th>0</th>\n",
       "      <th>1</th>\n",
       "    </tr>\n",
       "  </thead>\n",
       "  <tbody>\n",
       "    <tr>\n",
       "      <th>0</th>\n",
       "      <td>Crashed under unknown circumstances.</td>\n",
       "      <td>9</td>\n",
       "    </tr>\n",
       "    <tr>\n",
       "      <th>1</th>\n",
       "      <td>Crashed while en route.</td>\n",
       "      <td>8</td>\n",
       "    </tr>\n",
       "    <tr>\n",
       "      <th>2</th>\n",
       "      <td>Crashed during takeoff.</td>\n",
       "      <td>7</td>\n",
       "    </tr>\n",
       "    <tr>\n",
       "      <th>3</th>\n",
       "      <td>Crashed while attempting to land.</td>\n",
       "      <td>6</td>\n",
       "    </tr>\n",
       "    <tr>\n",
       "      <th>4</th>\n",
       "      <td>Crashed into the sea.</td>\n",
       "      <td>5</td>\n",
       "    </tr>\n",
       "    <tr>\n",
       "      <th>5</th>\n",
       "      <td>Crashed shortly after taking off.</td>\n",
       "      <td>5</td>\n",
       "    </tr>\n",
       "    <tr>\n",
       "      <th>6</th>\n",
       "      <td>Crashed under unknown circumstances</td>\n",
       "      <td>4</td>\n",
       "    </tr>\n",
       "    <tr>\n",
       "      <th>7</th>\n",
       "      <td>Crashed on takeoff.</td>\n",
       "      <td>4</td>\n",
       "    </tr>\n",
       "    <tr>\n",
       "      <th>8</th>\n",
       "      <td>Crashed en route.</td>\n",
       "      <td>4</td>\n",
       "    </tr>\n",
       "    <tr>\n",
       "      <th>9</th>\n",
       "      <td>Flew into a mountain.</td>\n",
       "      <td>4</td>\n",
       "    </tr>\n",
       "  </tbody>\n",
       "</table>\n",
       "</div>"
      ],
      "text/plain": [
       "                                      0  1\n",
       "0  Crashed under unknown circumstances.  9\n",
       "1               Crashed while en route.  8\n",
       "2               Crashed during takeoff.  7\n",
       "3     Crashed while attempting to land.  6\n",
       "4                 Crashed into the sea.  5\n",
       "5     Crashed shortly after taking off.  5\n",
       "6   Crashed under unknown circumstances  4\n",
       "7                   Crashed on takeoff.  4\n",
       "8                     Crashed en route.  4\n",
       "9                 Flew into a mountain.  4"
      ]
     },
     "execution_count": 188,
     "metadata": {},
     "output_type": "execute_result"
    }
   ],
   "source": [
    "words = Counter(summ[\"Summary\"]).most_common(100)\n",
    "famell = pd.DataFrame(words)\n",
    "famell.head(10)"
   ]
  },
  {
   "cell_type": "markdown",
   "id": "33ba42f7",
   "metadata": {},
   "source": [
    "# Most fatality for crash\n"
   ]
  },
  {
   "cell_type": "code",
   "execution_count": 189,
   "id": "e026fa1e",
   "metadata": {},
   "outputs": [
    {
     "data": {
      "text/html": [
       "<div>\n",
       "<style scoped>\n",
       "    .dataframe tbody tr th:only-of-type {\n",
       "        vertical-align: middle;\n",
       "    }\n",
       "\n",
       "    .dataframe tbody tr th {\n",
       "        vertical-align: top;\n",
       "    }\n",
       "\n",
       "    .dataframe thead th {\n",
       "        text-align: right;\n",
       "    }\n",
       "</style>\n",
       "<table border=\"1\" class=\"dataframe\">\n",
       "  <thead>\n",
       "    <tr style=\"text-align: right;\">\n",
       "      <th></th>\n",
       "      <th>Date</th>\n",
       "      <th>Time</th>\n",
       "      <th>Location</th>\n",
       "      <th>Operator</th>\n",
       "      <th>Flight #</th>\n",
       "      <th>Route</th>\n",
       "      <th>AC Type</th>\n",
       "      <th>Registration</th>\n",
       "      <th>cn/ln</th>\n",
       "      <th>Aboard</th>\n",
       "      <th>Aboard Passangers</th>\n",
       "      <th>Aboard Crew</th>\n",
       "      <th>Fatalities</th>\n",
       "      <th>Fatalities Passangers</th>\n",
       "      <th>Fatalities Crew</th>\n",
       "      <th>Ground</th>\n",
       "      <th>Summary</th>\n",
       "      <th>year</th>\n",
       "    </tr>\n",
       "  </thead>\n",
       "  <tbody>\n",
       "    <tr>\n",
       "      <th>2885</th>\n",
       "      <td>1977-03-27</td>\n",
       "      <td>17:07</td>\n",
       "      <td>Tenerife, Canary Islands</td>\n",
       "      <td>Pan American World Airways / KLM</td>\n",
       "      <td>1736/4805</td>\n",
       "      <td>Tenerife - Las Palmas / Tenerife - Las Palmas</td>\n",
       "      <td>Boeing B-747-121 / Boeing B-747-206B</td>\n",
       "      <td>N736PA/PH-BUF</td>\n",
       "      <td>19643/11 / 20400/157</td>\n",
       "      <td>644.0</td>\n",
       "      <td>614.0</td>\n",
       "      <td>30.0</td>\n",
       "      <td>583</td>\n",
       "      <td>560.0</td>\n",
       "      <td>23.0</td>\n",
       "      <td>0.0</td>\n",
       "      <td>Both aircraft were diverted to Tenerife becaus...</td>\n",
       "      <td>1977</td>\n",
       "    </tr>\n",
       "    <tr>\n",
       "      <th>3324</th>\n",
       "      <td>1985-08-12</td>\n",
       "      <td>18:56</td>\n",
       "      <td>Mt. Osutaka, near Ueno Village, Japan</td>\n",
       "      <td>Japan Air Lines</td>\n",
       "      <td>123</td>\n",
       "      <td>Tokyo - Osaka</td>\n",
       "      <td>Boeing B-747-SR46</td>\n",
       "      <td>JA8119</td>\n",
       "      <td>20783/230</td>\n",
       "      <td>524.0</td>\n",
       "      <td>509.0</td>\n",
       "      <td>15.0</td>\n",
       "      <td>520</td>\n",
       "      <td>505.0</td>\n",
       "      <td>15.0</td>\n",
       "      <td>0.0</td>\n",
       "      <td>The aircraft suffered an aft pressure bulkhead...</td>\n",
       "      <td>1985</td>\n",
       "    </tr>\n",
       "    <tr>\n",
       "      <th>4039</th>\n",
       "      <td>1996-11-12</td>\n",
       "      <td>18:40</td>\n",
       "      <td>Near Charkhi Dadri, India</td>\n",
       "      <td>Saudi Arabian Airlines / Kazakhstan Airlines</td>\n",
       "      <td>763/1907</td>\n",
       "      <td>New Delhi - Dhahran / Chimkent - New Delhi</td>\n",
       "      <td>Boeing B-747-168B / Ilyushin IL-76TD</td>\n",
       "      <td>HZ-AIH/UN-76435</td>\n",
       "      <td>22748/555/1023413428</td>\n",
       "      <td>349.0</td>\n",
       "      <td>316.0</td>\n",
       "      <td>33.0</td>\n",
       "      <td>349</td>\n",
       "      <td>316.0</td>\n",
       "      <td>33.0</td>\n",
       "      <td>0.0</td>\n",
       "      <td>Midair collision 17 km W of New Delhi.  The Sa...</td>\n",
       "      <td>1996</td>\n",
       "    </tr>\n",
       "    <tr>\n",
       "      <th>2720</th>\n",
       "      <td>1974-03-03</td>\n",
       "      <td>11:41</td>\n",
       "      <td>Near Ermenonville, France</td>\n",
       "      <td>Turkish Airlines (THY)</td>\n",
       "      <td>981</td>\n",
       "      <td>Paris - London</td>\n",
       "      <td>McDonnell Douglas DC-10-10</td>\n",
       "      <td>TC-JAV</td>\n",
       "      <td>46704/29</td>\n",
       "      <td>346.0</td>\n",
       "      <td>335.0</td>\n",
       "      <td>11.0</td>\n",
       "      <td>346</td>\n",
       "      <td>335.0</td>\n",
       "      <td>11.0</td>\n",
       "      <td>0.0</td>\n",
       "      <td>The aircraft crashed shortly after takeoff fro...</td>\n",
       "      <td>1974</td>\n",
       "    </tr>\n",
       "    <tr>\n",
       "      <th>3320</th>\n",
       "      <td>1985-06-23</td>\n",
       "      <td>07:15</td>\n",
       "      <td>Atlantic Ocean, 110 miles West of Ireland</td>\n",
       "      <td>Air India</td>\n",
       "      <td>182</td>\n",
       "      <td>Montreal - London</td>\n",
       "      <td>Boeing B-747-237B</td>\n",
       "      <td>VT-EFO</td>\n",
       "      <td>21473/330</td>\n",
       "      <td>329.0</td>\n",
       "      <td>307.0</td>\n",
       "      <td>22.0</td>\n",
       "      <td>329</td>\n",
       "      <td>307.0</td>\n",
       "      <td>22.0</td>\n",
       "      <td>0.0</td>\n",
       "      <td>The aircraft broke up in flight and crashed in...</td>\n",
       "      <td>1985</td>\n",
       "    </tr>\n",
       "  </tbody>\n",
       "</table>\n",
       "</div>"
      ],
      "text/plain": [
       "           Date   Time                                   Location  \\\n",
       "2885 1977-03-27  17:07                   Tenerife, Canary Islands   \n",
       "3324 1985-08-12  18:56      Mt. Osutaka, near Ueno Village, Japan   \n",
       "4039 1996-11-12  18:40                  Near Charkhi Dadri, India   \n",
       "2720 1974-03-03  11:41                  Near Ermenonville, France   \n",
       "3320 1985-06-23  07:15  Atlantic Ocean, 110 miles West of Ireland   \n",
       "\n",
       "                                          Operator   Flight #  \\\n",
       "2885              Pan American World Airways / KLM  1736/4805   \n",
       "3324                               Japan Air Lines        123   \n",
       "4039  Saudi Arabian Airlines / Kazakhstan Airlines   763/1907   \n",
       "2720                        Turkish Airlines (THY)        981   \n",
       "3320                                     Air India        182   \n",
       "\n",
       "                                              Route  \\\n",
       "2885  Tenerife - Las Palmas / Tenerife - Las Palmas   \n",
       "3324                                  Tokyo - Osaka   \n",
       "4039     New Delhi - Dhahran / Chimkent - New Delhi   \n",
       "2720                                 Paris - London   \n",
       "3320                              Montreal - London   \n",
       "\n",
       "                                   AC Type     Registration  \\\n",
       "2885  Boeing B-747-121 / Boeing B-747-206B    N736PA/PH-BUF   \n",
       "3324                     Boeing B-747-SR46           JA8119   \n",
       "4039  Boeing B-747-168B / Ilyushin IL-76TD  HZ-AIH/UN-76435   \n",
       "2720            McDonnell Douglas DC-10-10           TC-JAV   \n",
       "3320                     Boeing B-747-237B           VT-EFO   \n",
       "\n",
       "                     cn/ln  Aboard  Aboard Passangers  Aboard Crew  \\\n",
       "2885  19643/11 / 20400/157   644.0              614.0         30.0   \n",
       "3324             20783/230   524.0              509.0         15.0   \n",
       "4039  22748/555/1023413428   349.0              316.0         33.0   \n",
       "2720              46704/29   346.0              335.0         11.0   \n",
       "3320             21473/330   329.0              307.0         22.0   \n",
       "\n",
       "      Fatalities  Fatalities Passangers  Fatalities Crew  Ground  \\\n",
       "2885         583                  560.0             23.0     0.0   \n",
       "3324         520                  505.0             15.0     0.0   \n",
       "4039         349                  316.0             33.0     0.0   \n",
       "2720         346                  335.0             11.0     0.0   \n",
       "3320         329                  307.0             22.0     0.0   \n",
       "\n",
       "                                                Summary  year  \n",
       "2885  Both aircraft were diverted to Tenerife becaus...  1977  \n",
       "3324  The aircraft suffered an aft pressure bulkhead...  1985  \n",
       "4039  Midair collision 17 km W of New Delhi.  The Sa...  1996  \n",
       "2720  The aircraft crashed shortly after takeoff fro...  1974  \n",
       "3320  The aircraft broke up in flight and crashed in...  1985  "
      ]
     },
     "execution_count": 189,
     "metadata": {},
     "output_type": "execute_result"
    }
   ],
   "source": [
    "prop = ar[ar['Fatalities'].notna()] #CLEAN DATA\n",
    "ar = ar.dropna()\n",
    "ar['Fatalities'] = ar['Fatalities'].astype(int)\n",
    "ressult = pd.DataFrame(prop)\n",
    "ar.sort_values(by='Fatalities', ascending=False).head(5)"
   ]
  },
  {
   "cell_type": "code",
   "execution_count": 190,
   "id": "63c5139b",
   "metadata": {},
   "outputs": [],
   "source": [
    "#ar.sort_values(by='Fatalities', ascending=False).head(5)\n"
   ]
  },
  {
   "cell_type": "markdown",
   "id": "227df86e",
   "metadata": {},
   "source": [
    "# 10 - Total fatalities by operator."
   ]
  },
  {
   "cell_type": "code",
   "execution_count": 191,
   "id": "f6b51daa",
   "metadata": {},
   "outputs": [
    {
     "data": {
      "text/html": [
       "<div>\n",
       "<style scoped>\n",
       "    .dataframe tbody tr th:only-of-type {\n",
       "        vertical-align: middle;\n",
       "    }\n",
       "\n",
       "    .dataframe tbody tr th {\n",
       "        vertical-align: top;\n",
       "    }\n",
       "\n",
       "    .dataframe thead th {\n",
       "        text-align: right;\n",
       "    }\n",
       "</style>\n",
       "<table border=\"1\" class=\"dataframe\">\n",
       "  <thead>\n",
       "    <tr style=\"text-align: right;\">\n",
       "      <th></th>\n",
       "      <th>Fatalities</th>\n",
       "    </tr>\n",
       "    <tr>\n",
       "      <th>Operator</th>\n",
       "      <th></th>\n",
       "    </tr>\n",
       "  </thead>\n",
       "  <tbody>\n",
       "    <tr>\n",
       "      <th>Aeroflot</th>\n",
       "      <td>6238</td>\n",
       "    </tr>\n",
       "    <tr>\n",
       "      <th>American Airlines</th>\n",
       "      <td>1408</td>\n",
       "    </tr>\n",
       "    <tr>\n",
       "      <th>Pan American World Airways</th>\n",
       "      <td>1239</td>\n",
       "    </tr>\n",
       "    <tr>\n",
       "      <th>Air France</th>\n",
       "      <td>1128</td>\n",
       "    </tr>\n",
       "    <tr>\n",
       "      <th>United Air Lines</th>\n",
       "      <td>991</td>\n",
       "    </tr>\n",
       "    <tr>\n",
       "      <th>Trans World Airlines</th>\n",
       "      <td>778</td>\n",
       "    </tr>\n",
       "    <tr>\n",
       "      <th>China Airlines (Taiwan)</th>\n",
       "      <td>771</td>\n",
       "    </tr>\n",
       "    <tr>\n",
       "      <th>Air India</th>\n",
       "      <td>707</td>\n",
       "    </tr>\n",
       "    <tr>\n",
       "      <th>Eastern Air Lines</th>\n",
       "      <td>692</td>\n",
       "    </tr>\n",
       "    <tr>\n",
       "      <th>Korean Airlines</th>\n",
       "      <td>689</td>\n",
       "    </tr>\n",
       "    <tr>\n",
       "      <th>Japan Air Lines</th>\n",
       "      <td>688</td>\n",
       "    </tr>\n",
       "    <tr>\n",
       "      <th>Malaysia Airlines</th>\n",
       "      <td>671</td>\n",
       "    </tr>\n",
       "    <tr>\n",
       "      <th>Turkish Airlines (THY)</th>\n",
       "      <td>638</td>\n",
       "    </tr>\n",
       "    <tr>\n",
       "      <th>AVIANCA</th>\n",
       "      <td>617</td>\n",
       "    </tr>\n",
       "    <tr>\n",
       "      <th>Pakistan International Airlines</th>\n",
       "      <td>584</td>\n",
       "    </tr>\n",
       "    <tr>\n",
       "      <th>Pan American World Airways / KLM</th>\n",
       "      <td>583</td>\n",
       "    </tr>\n",
       "    <tr>\n",
       "      <th>Northwest Orient Airlines</th>\n",
       "      <td>504</td>\n",
       "    </tr>\n",
       "    <tr>\n",
       "      <th>Ethiopian Airlines</th>\n",
       "      <td>410</td>\n",
       "    </tr>\n",
       "    <tr>\n",
       "      <th>Alitalia</th>\n",
       "      <td>408</td>\n",
       "    </tr>\n",
       "    <tr>\n",
       "      <th>Indian Airlines</th>\n",
       "      <td>388</td>\n",
       "    </tr>\n",
       "  </tbody>\n",
       "</table>\n",
       "</div>"
      ],
      "text/plain": [
       "                                  Fatalities\n",
       "Operator                                    \n",
       "Aeroflot                                6238\n",
       "American Airlines                       1408\n",
       "Pan American World Airways              1239\n",
       "Air France                              1128\n",
       "United Air Lines                         991\n",
       "Trans World Airlines                     778\n",
       "China Airlines (Taiwan)                  771\n",
       "Air India                                707\n",
       "Eastern Air Lines                        692\n",
       "Korean Airlines                          689\n",
       "Japan Air Lines                          688\n",
       "Malaysia Airlines                        671\n",
       "Turkish Airlines (THY)                   638\n",
       "AVIANCA                                  617\n",
       "Pakistan International Airlines          584\n",
       "Pan American World Airways / KLM         583\n",
       "Northwest Orient Airlines                504\n",
       "Ethiopian Airlines                       410\n",
       "Alitalia                                 408\n",
       "Indian Airlines                          388"
      ]
     },
     "execution_count": 191,
     "metadata": {},
     "output_type": "execute_result"
    }
   ],
   "source": [
    "masc = ar.groupby([\"Operator\"])[\"Fatalities\"].sum().sort_values(ascending=False)\n",
    "masc = pd.DataFrame(masc)\n",
    "masc.head(20)"
   ]
  },
  {
   "cell_type": "code",
   "execution_count": null,
   "id": "8ad42d4d",
   "metadata": {},
   "outputs": [],
   "source": []
  }
 ],
 "metadata": {
  "interpreter": {
   "hash": "f59c9c693ff80e1b05a487ad868f0dfb263a9fe7ca47580b555792f3dd2f3f21"
  },
  "kernelspec": {
   "display_name": "Python 3.10.4 64-bit",
   "language": "python",
   "name": "python3"
  },
  "language_info": {
   "codemirror_mode": {
    "name": "ipython",
    "version": 3
   },
   "file_extension": ".py",
   "mimetype": "text/x-python",
   "name": "python",
   "nbconvert_exporter": "python",
   "pygments_lexer": "ipython3",
   "version": "3.10.4"
  }
 },
 "nbformat": 4,
 "nbformat_minor": 5
}
